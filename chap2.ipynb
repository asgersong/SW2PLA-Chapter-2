{
 "cells": [
  {
   "cell_type": "code",
   "execution_count": 1,
   "metadata": {},
   "outputs": [
    {
     "name": "stderr",
     "output_type": "stream",
     "text": [
      "/var/folders/46/ldz6flts44z1k2y5dfkc9zq80000gn/T/ipykernel_92097/1186140652.py:8: DeprecationWarning: `set_matplotlib_formats` is deprecated since IPython 7.23, directly use `matplotlib_inline.backend_inline.set_matplotlib_formats()`\n",
      "  display.set_matplotlib_formats('svg') # display figures in vector format\n"
     ]
    }
   ],
   "source": [
    "# import libraries\n",
    "import numpy as np\n",
    "import matplotlib.pyplot as plt"
   ]
  },
  {
   "attachments": {},
   "cell_type": "markdown",
   "metadata": {},
   "source": [
    "# Exercise 2"
   ]
  },
  {
   "cell_type": "code",
   "execution_count": 2,
   "metadata": {},
   "outputs": [
    {
     "name": "stdout",
     "output_type": "stream",
     "text": [
      "1.0\n",
      "3.7416573867739413 3.7416573867739413\n"
     ]
    }
   ],
   "source": [
    "# the function\n",
    "def normOfVect(v):\n",
    "  \n",
    "\n",
    "# test it on a unit-norm vector\n",
    "w = np.array([0,0,1])\n",
    "print( normOfVect(w) )\n",
    "\n",
    "# non-unit-norm vector, and confirm using np.linalg.norm\n",
    "w = np.array([1,2,3])\n",
    "print( normOfVect(w),np.linalg.norm(w) )"
   ]
  },
  {
   "attachments": {},
   "cell_type": "markdown",
   "metadata": {},
   "source": [
    "# Exercise 3"
   ]
  },
  {
   "cell_type": "code",
   "execution_count": null,
   "metadata": {},
   "outputs": [],
   "source": [
    "# define function\n",
    "def createUnitVector(v):\n",
    "  # get vector norm\n",
    "  \n",
    "  # return unit vector\n",
    "  \n",
    "\n",
    "\n",
    "# test on a unit vector\n",
    "w = np.array([0,1,0])\n",
    "print( createUnitVector(w) )\n",
    "\n",
    "# test on a non-unit vector that is easy to confirm\n",
    "w = np.array([0,3,0])\n",
    "print( createUnitVector(w) )\n",
    "\n",
    "# test on a non-unit vector\n",
    "w = np.array([13,-5,7])\n",
    "uw = createUnitVector(w)\n",
    "print( uw ), print(' ')\n",
    "# confirm the vectors' norms\n",
    "print( np.linalg.norm(w),np.linalg.norm(uw) )\n",
    "\n",
    "# what happens with the zeros vector?\n",
    "print('\\n\\n\\n') # just some spaces\n",
    "createUnitVector( np.zeros((4,1)) )"
   ]
  },
  {
   "attachments": {},
   "cell_type": "markdown",
   "metadata": {},
   "source": [
    "# Exercise 4"
   ]
  },
  {
   "cell_type": "code",
   "execution_count": 3,
   "metadata": {},
   "outputs": [
    {
     "name": "stdout",
     "output_type": "stream",
     "text": [
      "[4. 0. 0.]\n",
      "1.0 4.0\n"
     ]
    }
   ],
   "source": [
    "# define the function\n",
    "def createMagVector(v,mag):\n",
    "  # get vector norm\n",
    "  \n",
    "  # return unit vector\n",
    "  \n",
    "\n",
    "# test on a vector that is easy to confirm\n",
    "w = np.array([1,0,0])\n",
    "mw = createMagVector(w,4)\n",
    "print( mw )\n",
    "\n",
    "# confirm the vectors' norms\n",
    "print(np.linalg.norm(w),np.linalg.norm(mw))"
   ]
  }
 ],
 "metadata": {
  "kernelspec": {
   "display_name": "base",
   "language": "python",
   "name": "python3"
  },
  "language_info": {
   "codemirror_mode": {
    "name": "ipython",
    "version": 3
   },
   "file_extension": ".py",
   "mimetype": "text/x-python",
   "name": "python",
   "nbconvert_exporter": "python",
   "pygments_lexer": "ipython3",
   "version": "3.9.7"
  },
  "orig_nbformat": 4
 },
 "nbformat": 4,
 "nbformat_minor": 2
}
